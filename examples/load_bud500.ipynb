{
  "nbformat": 4,
  "nbformat_minor": 0,
  "metadata": {
    "colab": {
      "provenance": [],
      "toc_visible": true
    },
    "kernelspec": {
      "name": "python3",
      "display_name": "Python 3"
    },
    "language_info": {
      "name": "python"
    }
  },
  "cells": [
    {
      "cell_type": "markdown",
      "source": [
        "## Authorized and Setup Environment"
      ],
      "metadata": {
        "id": "zNRj0wKT_i-j"
      }
    },
    {
      "cell_type": "code",
      "source": [
        "!pip install -Uq datasets"
      ],
      "metadata": {
        "id": "9u0UHUfub9zI"
      },
      "execution_count": null,
      "outputs": []
    },
    {
      "cell_type": "code",
      "source": [
        "# fill in your huggingface token to authorize\n",
        "!huggingface-cli login"
      ],
      "metadata": {
        "id": "iT9jLpHVVolH"
      },
      "execution_count": null,
      "outputs": []
    },
    {
      "cell_type": "code",
      "source": [
        "from datasets import load_dataset"
      ],
      "metadata": {
        "id": "3PmmGyKgBfwW"
      },
      "execution_count": null,
      "outputs": []
    },
    {
      "cell_type": "markdown",
      "source": [
        "## Load dataset in chunks via Parquet\n",
        "\n",
        "- The dataset is divided into 105 chunks, each chunk containing approximately 4,000 samples.\n",
        "- Link to other parquet files: [https://huggingface.co/datasets/linhtran92/viet_bud500/tree/main/data](https://huggingface.co/datasets/linhtran92/viet_bud500/tree/main/data)"
      ],
      "metadata": {
        "id": "wxlqzta0-2pj"
      }
    },
    {
      "cell_type": "code",
      "source": [
        "train_url = \"https://huggingface.co/datasets/linhtran92/viet_bud500/resolve/main/data/train-00000-of-00105-be5f872f8be772f5.parquet\"\n",
        "test_url = \"https://huggingface.co/datasets/linhtran92/viet_bud500/resolve/main/data/test-00000-of-00002-531c1d81edb57297.parquet\"\n",
        "\n",
        "data_files = {\"train\": train_url, \"test\" : test_url}\n",
        "dataset = load_dataset(\"parquet\", data_files=data_files, num_proc=2)\n",
        "dataset"
      ],
      "metadata": {
        "colab": {
          "base_uri": "https://localhost:8080/"
        },
        "id": "iK1la9nPcHex",
        "outputId": "2c76957d-4bdf-4f9c-f376-2eff36c22416"
      },
      "execution_count": null,
      "outputs": [
        {
          "output_type": "execute_result",
          "data": {
            "text/plain": [
              "DatasetDict({\n",
              "    train: Dataset({\n",
              "        features: ['audio', 'transcription'],\n",
              "        num_rows: 6040\n",
              "    })\n",
              "    test: Dataset({\n",
              "        features: ['audio', 'transcription'],\n",
              "        num_rows: 3750\n",
              "    })\n",
              "})"
            ]
          },
          "metadata": {},
          "execution_count": 4
        }
      ]
    },
    {
      "cell_type": "markdown",
      "source": [
        "## Load dataset via Streaming\n",
        "\n",
        "- Dataset streaming lets you work with a dataset without downloading it.\n",
        "- Suitable if you want to quickly explore just a few samples of the dataset."
      ],
      "metadata": {
        "id": "kqioeV-JQyPs"
      }
    },
    {
      "cell_type": "code",
      "source": [
        "dataset = load_dataset(\"linhtran92/viet_bud500\", split='test', streaming=True)"
      ],
      "metadata": {
        "id": "Z8jOMWOePqHO"
      },
      "execution_count": null,
      "outputs": []
    },
    {
      "cell_type": "code",
      "source": [
        "dataset.take(2)"
      ],
      "metadata": {
        "colab": {
          "base_uri": "https://localhost:8080/"
        },
        "id": "AQVYKsk3QA6z",
        "outputId": "cd709a6c-7346-4a23-d351-6c81ec55bcaa"
      },
      "execution_count": null,
      "outputs": [
        {
          "output_type": "execute_result",
          "data": {
            "text/plain": [
              "IterableDataset({\n",
              "    features: ['audio', 'transcription'],\n",
              "    n_shards: 2\n",
              "})"
            ]
          },
          "metadata": {},
          "execution_count": 7
        }
      ]
    },
    {
      "cell_type": "markdown",
      "source": [
        "##Load the complete dataset\n",
        "\n",
        "- Requires approximately 100GB of storage.\n",
        "- Take about 2 hours to complete loading.\n",
        "\n",
        "\n"
      ],
      "metadata": {
        "id": "bSW6uc2A_bzy"
      }
    },
    {
      "cell_type": "code",
      "source": [
        "dataset = load_dataset(\"linhtran92/viet_bud500\", split=\"test\", num_proc=2)\n",
        "dataset"
      ],
      "metadata": {
        "id": "Z4De3RzAcJGE"
      },
      "execution_count": null,
      "outputs": []
    }
  ]
}